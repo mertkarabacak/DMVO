{
 "cells": [
  {
   "cell_type": "code",
   "execution_count": null,
   "metadata": {
    "id": "JrZMQLTfIQPb"
   },
   "outputs": [],
   "source": [
    "import numpy as np\n",
    "import pandas as pd\n",
    "\n",
    "import sklearn\n",
    "import sklearn.metrics\n",
    "from sklearn.metrics import roc_auc_score, roc_curve, precision_recall_curve, auc, precision_score, recall_score, f1_score, classification_report, accuracy_score, confusion_matrix, ConfusionMatrixDisplay, matthews_corrcoef\n",
    "from sklearn.model_selection import train_test_split\n",
    "from sklearn.calibration import calibration_curve\n",
    "from sklearn.feature_selection import RFE\n",
    "\n",
    "from scipy import stats as st\n",
    "from random import randrange\n",
    "from matplotlib import pyplot\n",
    "\n",
    "import xgboost as xgb\n",
    "import lightgbm as lgb\n",
    "import catboost as cb\n",
    "from sklearn.ensemble import RandomForestClassifier\n",
    "\n",
    "import optuna\n",
    "\n",
    "import shap"
   ]
  },
  {
   "cell_type": "code",
   "execution_count": null,
   "metadata": {
    "colab": {
     "base_uri": "https://localhost:8080/",
     "height": 400
    },
    "executionInfo": {
     "elapsed": 4,
     "status": "ok",
     "timestamp": 1669320890310,
     "user": {
      "displayName": "Mert Karabacak",
      "userId": "14308977132914475412"
     },
     "user_tz": 300
    },
    "id": "sDsi_6tnIQPc",
    "outputId": "e4a1bab9-5d3f-495a-e762-be7683d1bc8a"
   },
   "outputs": [],
   "source": [
    "#Open csv file.\n",
    "\n",
    "data = pd.read_csv(\"./DMVO-mRS/dmvo_final.csv\", index_col = 0)\n",
    "data.head()"
   ]
  },
  {
   "cell_type": "code",
   "execution_count": null,
   "metadata": {
    "colab": {
     "base_uri": "https://localhost:8080/"
    },
    "executionInfo": {
     "elapsed": 156,
     "status": "ok",
     "timestamp": 1669320890464,
     "user": {
      "displayName": "Mert Karabacak",
      "userId": "14308977132914475412"
     },
     "user_tz": 300
    },
    "id": "J7iZue3UIlWi",
    "outputId": "94ae980b-ab19-4950-9b2b-a47897651c87"
   },
   "outputs": [],
   "source": [
    "#See potential variables.\n",
    "\n",
    "print(list(data.columns))"
   ]
  },
  {
   "cell_type": "code",
   "execution_count": null,
   "metadata": {
    "id": "Kc7gCo8nIQPd"
   },
   "outputs": [],
   "source": [
    "#Define predictor variables and outcome of interest.\n",
    "\n",
    "variables = ['Age', 'Age related Admission SI', 'Admission SI ', 'Admission BMI', 'Admission SBP', 'Admission DBP', 'Admission HR', 'Admission RR', 'Admission SpO2', 'Admission Sodium', 'Admission Potassium', 'Admission Glucose ', 'Admission Calcium', 'Admission BUN', 'Admission Creatinine', 'Admission BUN:Creatinine Ratio', 'Admission Hematocrit ', 'Admission Hemoglobin', 'Admission WBC Count', 'Admission Platelet Count', 'Admission Platelet:WBC Ratio', 'Admission Troponin I', 'Admission NIHSS', 'Admission LAMS', 'Baseline NCCT ASPECTS', 'Door to CT (minutes)', 'Door to Needle (minutes)', 'Door to Groin Puncture (minutes)', 'Groin puncture to recanalization (minutes)', 'Discharge Sodium', 'Discharge Potassium', 'Discharge Glucose ', 'Discharge Calcium', 'Discharge BUN', 'Discharge Creatinine', 'Discharge BUN:Creatinine Ratio', 'Discharge Hematocrit ', 'Discharge Hemoglobin', 'Discharge WBC Count (x 1000)', 'Discharge Platelet Count (x 1000)', 'Discharge Platelets:WBC Ratio', 'Discharge BMI', 'Discharge SBP', 'Discharge DBP', 'Discharge HR', 'Discharge RR', 'Discharge SpO2', 'Sex_Male', 'Race_Black/African American', 'Race_White', 'Smoking_Never smoker', 'Alcohol_Not current alcohol user', 'Hypertension _Yes', 'Dyslipidemia_Yes', 'Diabetes_Yes', 'Coronary Artery Disease_Yes', 'A-Fib_Yes', 'History of Malignancy_Yes', 'Antiplatelet or Anticoagulation_Yes', 'Prior stroke/TIA _Yes', 'HIV_Yes', 'HCV_Yes', 'Chronic Kidney disease_Yes', 'Sleep apnea_Yes', 'PVD_Yes', 'DVT/PE_Yes', 'Occlusion Laterality_Right', 'Occlusion Site_MCA', 'Occlusion Proximity_Middle', 'Occlusion Proximity_Middle+Distal', 'Occlusion Proximity_Proximal', 'Occlusion Proximity_Unknown', 'Superior vs Inferior_Superior', 'Superior vs Inferior_Superior and inferior', 'Superior vs Inferior_Unknown', 'Occlusion Segment_A3', 'Occlusion Segment_M2', 'Occlusion Segment_M2 ', 'Occlusion Segment_M2+M3', 'Occlusion Segment_M2+M3 ', 'Occlusion Segment_M2+M4', 'Occlusion Segment_M3', 'Hyperdense MCA_Unknown', 'Hyperdense MCA_Yes', 'Mechanical Thrombectomy_Yes', 'Number of Passes_2', 'Number of Passes_3', 'Number of Passes_4', 'Number of Passes_MT not attempted', 'Number of Passes_Unknown', 'mTICI Score_2a', 'mTICI Score_2b', 'mTICI Score_2c', 'mTICI Score_3', 'mTICI Score_MT not attempted', 'mTICI Score_Unknown', 'Hemorrhagic Transformation_Yes', 'Type of HT_HI2', 'Type of HT_No HT', 'Type of HT_PH1', 'mRS Category_Low']\n"
   ]
  },
  {
   "cell_type": "code",
   "execution_count": null,
   "metadata": {
    "id": "nOTs4SFqIQPd"
   },
   "outputs": [],
   "source": [
    "#Redefine data.\n",
    "\n",
    "data = data[variables]"
   ]
  },
  {
   "cell_type": "code",
   "execution_count": null,
   "metadata": {
    "id": "LhZeK6d8IQPd"
   },
   "outputs": [],
   "source": [
    "#Define predictor variables (x) and outcome of interest (y).\n",
    "\n",
    "x = data.drop(['mRS Category_Low'], axis = 1)\n",
    "y = data['mRS Category_Low']"
   ]
  },
  {
   "cell_type": "code",
   "execution_count": null,
   "metadata": {
    "colab": {
     "base_uri": "https://localhost:8080/"
    },
    "executionInfo": {
     "elapsed": 4,
     "status": "ok",
     "timestamp": 1669320890465,
     "user": {
      "displayName": "Mert Karabacak",
      "userId": "14308977132914475412"
     },
     "user_tz": 300
    },
    "id": "mt6ks1daIQPd",
    "outputId": "9fdebc52-56b4-4a6a-e007-ff883ab4a5ec"
   },
   "outputs": [],
   "source": [
    "#Check data shapes.\n",
    "\n",
    "print(y.shape)\n",
    "print(x.shape)"
   ]
  },
  {
   "cell_type": "code",
   "execution_count": null,
   "metadata": {
    "colab": {
     "base_uri": "https://localhost:8080/"
    },
    "executionInfo": {
     "elapsed": 130,
     "status": "ok",
     "timestamp": 1669320890593,
     "user": {
      "displayName": "Mert Karabacak",
      "userId": "14308977132914475412"
     },
     "user_tz": 300
    },
    "id": "d0IwUyCsIQPe",
    "outputId": "20dfbb4f-7ebf-44e2-d23f-51d4ab1c839a"
   },
   "outputs": [],
   "source": [
    "#Split data into initial train set and test set in 70:30 ratio.\n",
    "\n",
    "x_train, x_test, y_train, y_test = train_test_split(x, y, test_size = 0.3, random_state = 0)\n",
    "  \n",
    "#Describe initial train set and test set.\n",
    "\n",
    "print(\"Number patients x_train dataset: \", x_train.shape)\n",
    "print(\"Number patients y_train dataset: \", y_train.shape)\n",
    "print(\"Number patients x_test dataset: \", x_test.shape)\n",
    "print(\"Number patients y_test dataset: \", y_test.shape)"
   ]
  },
  {
   "cell_type": "code",
   "execution_count": null,
   "metadata": {
    "colab": {
     "base_uri": "https://localhost:8080/"
    },
    "executionInfo": {
     "elapsed": 3,
     "status": "ok",
     "timestamp": 1669320890593,
     "user": {
      "displayName": "Mert Karabacak",
      "userId": "14308977132914475412"
     },
     "user_tz": 300
    },
    "id": "g2O0He35IQPe",
    "outputId": "ae33fa1e-c2f3-43ec-8345-c3900c0c361f"
   },
   "outputs": [],
   "source": [
    "#Describe outcome of interest.\n",
    "\n",
    "print(\"Before resampling, counts of label '1' in the training set: {}\".format(sum(y_train == 1)))\n",
    "print(\"Before resampling, counts of label '0' in the training set: {} \\n\".format(sum(y_train == 0)))\n",
    "\n",
    "print(\"Before resampling, counts of label '1' in the training set: {}\".format(sum(y_test == 1)))\n",
    "print(\"Before resampling, counts of label '0' in the training set: {} \\n\".format(sum(y_test == 0)))"
   ]
  },
  {
   "cell_type": "markdown",
   "metadata": {
    "id": "1hKyf3XmPbTH"
   },
   "source": [
    "# Feature Selection"
   ]
  },
  {
   "cell_type": "code",
   "execution_count": null,
   "metadata": {
    "id": "LJIYQyvAAyq1"
   },
   "outputs": [],
   "source": [
    "min_features_to_select = 1\n",
    "clf = LogisticRegression()\n",
    "cv = StratifiedKFold(5)\n",
    "\n",
    "rfecv = RFECV(\n",
    "    estimator=clf,\n",
    "    step=1,\n",
    "    cv=cv,\n",
    "    scoring=\"accuracy\",\n",
    "    min_features_to_select=min_features_to_select,\n",
    "    n_jobs=2,\n",
    ")\n",
    "rfecv.fit(X, y)\n",
    "\n",
    "selected_features = list(x_train.columns[(rfecv.get_support())])\n",
    "\n",
    "print(f\"Optimal number of features: {rfecv.n_features_}\")\n",
    "\n",
    "print(Selected featuresselected_features)"
   ]
  },
  {
   "cell_type": "code",
   "execution_count": null,
   "metadata": {
    "colab": {
     "base_uri": "https://localhost:8080/"
    },
    "executionInfo": {
     "elapsed": 2286,
     "status": "ok",
     "timestamp": 1669320892878,
     "user": {
      "displayName": "Mert Karabacak",
      "userId": "14308977132914475412"
     },
     "user_tz": 300
    },
    "id": "tBjdlFdqO_6W",
    "outputId": "cc761927-d662-4c46-a406-217b71fef6e8"
   },
   "outputs": [],
   "source": [
    "rfe_method = RFE(\n",
    "    RandomForestClassifier(n_estimators=10, random_state=10),\n",
    "    n_features_to_select=10,\n",
    "    step=1,\n",
    ")\n",
    "\n",
    "rfe_method.fit(x_train, y_train)\n",
    "\n",
    "selected_features = list(x_train.columns[(rfe_method.get_support())])\n",
    "\n",
    "print(selected_features)"
   ]
  },
  {
   "cell_type": "code",
   "execution_count": null,
   "metadata": {
    "id": "gWZq-DVnPG-4"
   },
   "outputs": [],
   "source": [
    "x_train = x_train[selected_features]\n",
    "x_test = x_test[selected_features]"
   ]
  },
  {
   "cell_type": "markdown",
   "metadata": {
    "id": "esuV5nR8IQPe"
   },
   "source": [
    "# XGBoost"
   ]
  },
  {
   "cell_type": "code",
   "execution_count": null,
   "metadata": {
    "colab": {
     "base_uri": "https://localhost:8080/"
    },
    "executionInfo": {
     "elapsed": 17774,
     "status": "ok",
     "timestamp": 1669320917106,
     "user": {
      "displayName": "Mert Karabacak",
      "userId": "14308977132914475412"
     },
     "user_tz": 300
    },
    "id": "dBWNs_MxIQPf",
    "outputId": "7f0cfdb3-a0c5-40fa-f79b-f76fe919452d"
   },
   "outputs": [],
   "source": [
    "#Hyperparameter tuning for XGBoost.\n",
    "\n",
    "def objective(trial):\n",
    "    data, target = x_train, y_train\n",
    "    train_x, valid_x, train_y, valid_y = train_test_split(data, target, test_size=0.25)\n",
    "    dtrain = xgb.DMatrix(train_x, label=train_y)\n",
    "    dvalid = xgb.DMatrix(valid_x, label=valid_y)\n",
    "\n",
    "    param = {\n",
    "        \"verbosity\": 0,\n",
    "        \"objective\": \"binary:logistic\",\n",
    "        \"eval_metric\": \"auc\",\n",
    "        \"booster\": trial.suggest_categorical(\"booster\", [\"gbtree\", \"gblinear\", \"dart\"]),\n",
    "        \"lambda\": trial.suggest_float(\"lambda\", 1e-8, 1.0, log=True),\n",
    "        \"alpha\": trial.suggest_float(\"alpha\", 1e-8, 1.0, log=True),\n",
    "    }\n",
    "\n",
    "    if param[\"booster\"] == \"gbtree\" or param[\"booster\"] == \"dart\":\n",
    "        param[\"max_depth\"] = trial.suggest_int(\"max_depth\", 1, 9)\n",
    "        param[\"eta\"] = trial.suggest_float(\"eta\", 1e-8, 1.0, log=True)\n",
    "        param[\"gamma\"] = trial.suggest_float(\"gamma\", 1e-8, 1.0, log=True)\n",
    "        param[\"grow_policy\"] = trial.suggest_categorical(\"grow_policy\", [\"depthwise\", \"lossguide\"])\n",
    "    if param[\"booster\"] == \"dart\":\n",
    "        param[\"sample_type\"] = trial.suggest_categorical(\"sample_type\", [\"uniform\", \"weighted\"])\n",
    "        param[\"normalize_type\"] = trial.suggest_categorical(\"normalize_type\", [\"tree\", \"forest\"])\n",
    "        param[\"rate_drop\"] = trial.suggest_float(\"rate_drop\", 1e-8, 1.0, log=True)\n",
    "        param[\"skip_drop\"] = trial.suggest_float(\"skip_drop\", 1e-8, 1.0, log=True)\n",
    "\n",
    "    # Add a callback for pruning.\n",
    "    pruning_callback = optuna.integration.XGBoostPruningCallback(trial, \"validation-auc\")\n",
    "    \n",
    "    bst = xgb.train(param, dtrain, evals=[(dvalid, \"validation\")], callbacks=[pruning_callback])\n",
    "    preds = bst.predict(dvalid)\n",
    "    pred_labels = np.rint(preds)\n",
    "    auc = sklearn.metrics.roc_auc_score(valid_y, pred_labels)\n",
    "\n",
    "    return auc\n",
    "\n",
    "\n",
    "if __name__ == \"__main__\":\n",
    "    study = optuna.create_study(\n",
    "        pruner=optuna.pruners.MedianPruner(n_warmup_steps=5), direction=\"maximize\"\n",
    "    )\n",
    "    study.optimize(objective, n_trials=100)\n",
    "    print(\"Number of finished trials: {}\".format(len(study.trials)))\n",
    "\n",
    "    print(\"Best trial:\")\n",
    "    trial = study.best_trial\n",
    "\n",
    "    print(\"  Value: {}\".format(trial.value))\n",
    "\n",
    "    print(\"  Params: \")\n",
    "    for key, value in trial.params.items():\n",
    "        print(\"    {}: {}\".format(key, value))\n",
    "        \n",
    "    xgb_params = {}\n",
    "    \n",
    "    for key, value in trial.params.items():\n",
    "        xgb_params[key] = value"
   ]
  },
  {
   "cell_type": "code",
   "execution_count": null,
   "metadata": {
    "colab": {
     "base_uri": "https://localhost:8080/"
    },
    "executionInfo": {
     "elapsed": 119,
     "status": "ok",
     "timestamp": 1669320919615,
     "user": {
      "displayName": "Mert Karabacak",
      "userId": "14308977132914475412"
     },
     "user_tz": 300
    },
    "id": "uZk8hbTUIQPg",
    "outputId": "e019d437-e8a6-440c-e460-36425de617f2"
   },
   "outputs": [],
   "source": [
    "#Fit XGBoost.\n",
    "\n",
    "from xgboost import XGBClassifier\n",
    "\n",
    "xgb = XGBClassifier(**xgb_params)\n",
    "\n",
    "xgb.fit(x_train, y_train)"
   ]
  },
  {
   "cell_type": "code",
   "execution_count": null,
   "metadata": {
    "id": "rUf-OtCoIQPg"
   },
   "outputs": [],
   "source": [
    "#Make predictions on the test set based on the trained XGBoost model.\n",
    "\n",
    "preds_xgb = xgb.predict(x_test)\n",
    "\n",
    "probs_xgb = xgb.predict_proba(x_test)\n",
    "probs_xgb = probs_xgb[:, 1]"
   ]
  },
  {
   "cell_type": "code",
   "execution_count": null,
   "metadata": {
    "colab": {
     "base_uri": "https://localhost:8080/"
    },
    "executionInfo": {
     "elapsed": 119,
     "status": "ok",
     "timestamp": 1669320923151,
     "user": {
      "displayName": "Mert Karabacak",
      "userId": "14308977132914475412"
     },
     "user_tz": 300
    },
    "id": "5m3AkfQJIQPg",
    "outputId": "28c401d1-f512-468f-b4a6-593f917f4664"
   },
   "outputs": [],
   "source": [
    "#Evaluate XGBoost model.\n",
    "\n",
    "xgb_precision = precision_score(preds_xgb,y_test)\n",
    "xgb_recall = recall_score(preds_xgb,y_test)\n",
    "xgb_f1 = f1_score(preds_xgb,y_test)\n",
    "xgb_acc = accuracy_score(preds_xgb,y_test)   \n",
    "xgb_mcc = matthews_corrcoef(y_test, preds_xgb)\n",
    "xgb_auroc = roc_auc_score(y_test, probs_xgb)\n",
    "\n",
    "print(\"Precision: %.3f\" % (xgb_precision))\n",
    "print(\"Recall: %.3f\" % (xgb_recall))\n",
    "print(\"F1 Score: %.3f\" %(xgb_f1))\n",
    "print('Accuracy: %.3f' % (xgb_acc))\n",
    "print('MCC: %.3f' % (xgb_mcc))\n",
    "print('AUROC: %.3f' % (xgb_auroc))"
   ]
  },
  {
   "cell_type": "code",
   "execution_count": null,
   "metadata": {
    "colab": {
     "base_uri": "https://localhost:8080/"
    },
    "executionInfo": {
     "elapsed": 131,
     "status": "ok",
     "timestamp": 1669320925104,
     "user": {
      "displayName": "Mert Karabacak",
      "userId": "14308977132914475412"
     },
     "user_tz": 300
    },
    "id": "IsiZO5-tIQPg",
    "outputId": "038d3b25-7fe1-421f-a08a-ec04e6f560ed"
   },
   "outputs": [],
   "source": [
    "#Evaluate XGBoost model (PRC and AUPRC).\n",
    "\n",
    "xgb_precision, xgb_recall, _ = precision_recall_curve(y_test, probs_xgb)\n",
    "xgb_auprc = auc(xgb_recall, xgb_precision)\n",
    "\n",
    "print('AUPRC: %.3f' % (xgb_auprc))"
   ]
  },
  {
   "cell_type": "code",
   "execution_count": null,
   "metadata": {
    "colab": {
     "base_uri": "https://localhost:8080/"
    },
    "executionInfo": {
     "elapsed": 122,
     "status": "ok",
     "timestamp": 1669320926341,
     "user": {
      "displayName": "Mert Karabacak",
      "userId": "14308977132914475412"
     },
     "user_tz": 300
    },
    "id": "Y5nG9JidIQPg",
    "outputId": "6fc93c65-76ed-4981-de9d-1858ff4dec18"
   },
   "outputs": [],
   "source": [
    "#Recalculate precision and recall for calculation purposes.\n",
    "\n",
    "xgb_precision = precision_score(preds_xgb,y_test)\n",
    "xgb_recall = recall_score(preds_xgb,y_test)\n",
    "\n",
    "xgb_results = [xgb_precision, xgb_recall, xgb_f1, xgb_acc, xgb_mcc, xgb_auroc, xgb_auprc]"
   ]
  },
  {
   "cell_type": "code",
   "execution_count": null,
   "metadata": {
    "id": "Ch-wpxcQIQPg"
   },
   "outputs": [],
   "source": [
    "#Recalculate precision recall curve for plotting purposes.\n",
    "\n",
    "xgb_precision, xgb_recall, _ = precision_recall_curve(y_test, probs_xgb)"
   ]
  },
  {
   "cell_type": "markdown",
   "metadata": {
    "id": "9VszU3k5IQPh"
   },
   "source": [
    "# LightGBM"
   ]
  },
  {
   "cell_type": "code",
   "execution_count": null,
   "metadata": {
    "colab": {
     "base_uri": "https://localhost:8080/"
    },
    "executionInfo": {
     "elapsed": 4055,
     "status": "ok",
     "timestamp": 1669320934666,
     "user": {
      "displayName": "Mert Karabacak",
      "userId": "14308977132914475412"
     },
     "user_tz": 300
    },
    "id": "oR81p9HpIQPh",
    "outputId": "2514abed-4de7-4162-cc1c-902e6ef90954"
   },
   "outputs": [],
   "source": [
    "#Hyperparameter tuning for LightGBM.\n",
    "\n",
    "def objective(trial):\n",
    "    data, target = x_train, y_train\n",
    "    train_x, valid_x, train_y, valid_y = train_test_split(data, target, test_size=0.25)\n",
    "    dtrain = lgb.Dataset(train_x, label=train_y)\n",
    "\n",
    "    param = {\n",
    "        \"objective\":  trial.suggest_categorical(\"objective\", [\"binary\"]),\n",
    "        \"metric\": \"binary_logloss\",\n",
    "        \"verbosity\": -1,\n",
    "        \"boosting_type\":  trial.suggest_categorical(\"boosting_type\", [\"gbdt\"]),\n",
    "        \"lambda_l1\": trial.suggest_float(\"lambda_l1\", 1e-8, 10.0, log=True),\n",
    "        \"lambda_l2\": trial.suggest_float(\"lambda_l2\", 1e-8, 10.0, log=True),\n",
    "        \"num_leaves\": trial.suggest_int(\"num_leaves\", 2, 256),\n",
    "        \"feature_fraction\": trial.suggest_float(\"feature_fraction\", 0.4, 1.0),\n",
    "        \"bagging_fraction\": trial.suggest_float(\"bagging_fraction\", 0.4, 1.0),\n",
    "        \"bagging_freq\": trial.suggest_int(\"bagging_freq\", 1, 7),\n",
    "        \"min_child_samples\": trial.suggest_int(\"min_child_samples\", 5, 100),\n",
    "    }\n",
    "\n",
    "    gbm = lgb.train(param, dtrain)\n",
    "    preds = gbm.predict(valid_x)\n",
    "    pred_labels = np.rint(preds)\n",
    "    auc = sklearn.metrics.roc_auc_score(valid_y, pred_labels)\n",
    "    return auc\n",
    "\n",
    "\n",
    "if __name__ == \"__main__\":\n",
    "    study = optuna.create_study(direction=\"maximize\")\n",
    "    study.optimize(objective, n_trials=100)\n",
    "\n",
    "    print(\"Number of finished trials: {}\".format(len(study.trials)))\n",
    "\n",
    "    print(\"Best trial:\")\n",
    "    trial = study.best_trial\n",
    "\n",
    "    print(\"  Value: {}\".format(trial.value))\n",
    "\n",
    "    print(\"  Params: \")\n",
    "    for key, value in trial.params.items():\n",
    "        print(\"    {}: {}\".format(key, value))\n",
    "        \n",
    "    lgb_params = {}\n",
    "    \n",
    "    for key, value in trial.params.items():\n",
    "        lgb_params[key] = value"
   ]
  },
  {
   "cell_type": "code",
   "execution_count": null,
   "metadata": {
    "colab": {
     "base_uri": "https://localhost:8080/"
    },
    "executionInfo": {
     "elapsed": 119,
     "status": "ok",
     "timestamp": 1669320937384,
     "user": {
      "displayName": "Mert Karabacak",
      "userId": "14308977132914475412"
     },
     "user_tz": 300
    },
    "id": "UAidUSs1IQPh",
    "outputId": "b95d624e-aa72-40fa-c887-424209906f90"
   },
   "outputs": [],
   "source": [
    "#Fit LightGBM.\n",
    "\n",
    "import lightgbm as lgb\n",
    "\n",
    "lgb = lgb.LGBMClassifier(**lgb_params)\n",
    "\n",
    "lgb.fit(x_train, y_train)"
   ]
  },
  {
   "cell_type": "code",
   "execution_count": null,
   "metadata": {
    "id": "JlKe1z0RIQPh"
   },
   "outputs": [],
   "source": [
    "#Make predictions on the test set based on the trained model.\n",
    "\n",
    "preds_lgb = lgb.predict(x_test)\n",
    "\n",
    "probs_lgb = lgb.predict_proba(x_test)\n",
    "probs_lgb = probs_lgb[:, 1]"
   ]
  },
  {
   "cell_type": "code",
   "execution_count": null,
   "metadata": {
    "colab": {
     "base_uri": "https://localhost:8080/"
    },
    "executionInfo": {
     "elapsed": 117,
     "status": "ok",
     "timestamp": 1669320940430,
     "user": {
      "displayName": "Mert Karabacak",
      "userId": "14308977132914475412"
     },
     "user_tz": 300
    },
    "id": "r259oDdIIQPi",
    "outputId": "75148b30-bdfd-46d7-cb74-8560b490ad87"
   },
   "outputs": [],
   "source": [
    "#Evaluate LightGBM model.\n",
    "\n",
    "lgb_precision = precision_score(preds_lgb,y_test)\n",
    "lgb_recall = recall_score(preds_lgb,y_test)\n",
    "lgb_f1 = f1_score(preds_lgb,y_test)\n",
    "lgb_acc = accuracy_score(preds_lgb,y_test)   \n",
    "lgb_mcc = matthews_corrcoef(y_test, preds_lgb)\n",
    "lgb_auroc = roc_auc_score(y_test, probs_lgb)\n",
    "                          \n",
    "print(\"Precision: %.3f\" % (lgb_precision))\n",
    "print(\"Recall: %.3f\" % (lgb_recall))\n",
    "print(\"F1 Score: %.3f\" %(lgb_f1))\n",
    "print('Accuracy: %.3f' % (lgb_acc))\n",
    "print('MCC: %.3f' % (lgb_mcc))\n",
    "print('AUROC: %.3f' % (lgb_auroc))"
   ]
  },
  {
   "cell_type": "code",
   "execution_count": null,
   "metadata": {
    "colab": {
     "base_uri": "https://localhost:8080/"
    },
    "executionInfo": {
     "elapsed": 138,
     "status": "ok",
     "timestamp": 1669320945805,
     "user": {
      "displayName": "Mert Karabacak",
      "userId": "14308977132914475412"
     },
     "user_tz": 300
    },
    "id": "BoDYFWcLIQPi",
    "outputId": "77883c89-54bb-4453-b653-c67fbce88727"
   },
   "outputs": [],
   "source": [
    "#Evaluate LightGBM model (PRC and AUPRC).\n",
    "\n",
    "lgb_precision, lgb_recall, _ = precision_recall_curve(y_test, probs_lgb)\n",
    "lgb_auprc = auc(lgb_recall, lgb_precision)\n",
    "\n",
    "print('AUPRC: %.3f' % (lgb_auprc))"
   ]
  },
  {
   "cell_type": "code",
   "execution_count": null,
   "metadata": {
    "id": "JSgkOZ5UIQPi"
   },
   "outputs": [],
   "source": [
    "#Recalculate precision and recall for calculation purposes.\n",
    "\n",
    "lgb_precision = precision_score(preds_lgb,y_test)\n",
    "lgb_recall = recall_score(preds_lgb,y_test)\n",
    "\n",
    "lgb_results = [lgb_precision, lgb_recall, lgb_f1, lgb_acc, lgb_mcc, lgb_auroc, lgb_auprc]"
   ]
  },
  {
   "cell_type": "code",
   "execution_count": null,
   "metadata": {
    "id": "PXzXI9O-IQPi"
   },
   "outputs": [],
   "source": [
    "#Recalculate precision recall curve for plotting purposes.\n",
    "\n",
    "lgb_precision, lgb_recall, _ = precision_recall_curve(y_test, probs_lgb)"
   ]
  },
  {
   "cell_type": "markdown",
   "metadata": {
    "id": "pypALF20IQPi"
   },
   "source": [
    "# CatBoost"
   ]
  },
  {
   "cell_type": "code",
   "execution_count": null,
   "metadata": {
    "colab": {
     "base_uri": "https://localhost:8080/"
    },
    "executionInfo": {
     "elapsed": 11789,
     "status": "ok",
     "timestamp": 1669321039086,
     "user": {
      "displayName": "Mert Karabacak",
      "userId": "14308977132914475412"
     },
     "user_tz": 300
    },
    "id": "qX254OCwIQPj",
    "outputId": "d559b446-641f-4a4b-a9a6-51af52b40fae"
   },
   "outputs": [],
   "source": [
    "#Hyperparameter tuning for CatBoost.\n",
    "\n",
    "from optuna.integration import CatBoostPruningCallback\n",
    "\n",
    "def objective(trial: optuna.Trial) -> float:\n",
    "    data, target = x_train, y_train\n",
    "    train_x, valid_x, train_y, valid_y = train_test_split(data, target, test_size=0.25)\n",
    "\n",
    "    param = {\n",
    "        \"objective\": trial.suggest_categorical(\"objective\", [\"Logloss\", \"CrossEntropy\"]),\n",
    "        \"colsample_bylevel\": trial.suggest_float(\"colsample_bylevel\", 0.01, 0.1, log=True),\n",
    "        \"depth\": trial.suggest_int(\"depth\", 1, 12),\n",
    "        \"boosting_type\": trial.suggest_categorical(\"boosting_type\", [\"Ordered\", \"Plain\"]),\n",
    "        \"bootstrap_type\": trial.suggest_categorical(\n",
    "            \"bootstrap_type\", [\"Bayesian\", \"Bernoulli\", \"MVS\"]\n",
    "        ),\n",
    "        \"used_ram_limit\": \"3gb\",\n",
    "        \"eval_metric\": \"AUC\",\n",
    "    }\n",
    "\n",
    "    if param[\"bootstrap_type\"] == \"Bayesian\":\n",
    "        param[\"bagging_temperature\"] = trial.suggest_float(\"bagging_temperature\", 0, 10)\n",
    "    elif param[\"bootstrap_type\"] == \"Bernoulli\":\n",
    "        param[\"subsample\"] = trial.suggest_float(\"subsample\", 0.1, 1, log=True)\n",
    "\n",
    "    gbm = cb.CatBoostClassifier(**param)\n",
    "\n",
    "    pruning_callback = CatBoostPruningCallback(trial, \"AUC\")\n",
    "    gbm.fit(\n",
    "        train_x,\n",
    "        train_y,\n",
    "        eval_set=[(valid_x, valid_y)],\n",
    "        verbose=0,\n",
    "        early_stopping_rounds=100,\n",
    "        callbacks=[pruning_callback],\n",
    "    )\n",
    "\n",
    "    # evoke pruning manually.\n",
    "    pruning_callback.check_pruned()\n",
    "\n",
    "    preds = gbm.predict(valid_x)\n",
    "    pred_labels = np.rint(preds)\n",
    "    auc = sklearn.metrics.roc_auc_score(valid_y, pred_labels)\n",
    "\n",
    "    return auc\n",
    "\n",
    "if __name__ == \"__main__\":\n",
    "    study = optuna.create_study(\n",
    "        pruner=optuna.pruners.MedianPruner(n_warmup_steps=5), direction=\"maximize\"\n",
    "    )\n",
    "    study.optimize(objective, n_trials=100, timeout=600)\n",
    "\n",
    "    print(\"Number of finished trials: {}\".format(len(study.trials)))\n",
    "\n",
    "    print(\"Best trial:\")\n",
    "    trial = study.best_trial\n",
    "\n",
    "    print(\"  Value: {}\".format(trial.value))\n",
    "\n",
    "    print(\"  Params: \")\n",
    "    for key, value in trial.params.items():\n",
    "        print(\"    {}: {}\".format(key, value))\n",
    "\n",
    "    cb_params = {}\n",
    "    \n",
    "    for key, value in trial.params.items():\n",
    "        cb_params[key] = value"
   ]
  },
  {
   "cell_type": "code",
   "execution_count": null,
   "metadata": {
    "colab": {
     "base_uri": "https://localhost:8080/"
    },
    "executionInfo": {
     "elapsed": 5552,
     "status": "ok",
     "timestamp": 1669321053292,
     "user": {
      "displayName": "Mert Karabacak",
      "userId": "14308977132914475412"
     },
     "user_tz": 300
    },
    "id": "Jk72VQghIQPj",
    "outputId": "bcfabbb8-2a1b-4600-c595-7649b32f133a"
   },
   "outputs": [],
   "source": [
    "#Fit CatBoost.\n",
    "\n",
    "from catboost import CatBoostClassifier\n",
    "\n",
    "cb = CatBoostClassifier(**cb_params)\n",
    "\n",
    "cb.fit(x_train, y_train)"
   ]
  },
  {
   "cell_type": "code",
   "execution_count": null,
   "metadata": {
    "id": "tKJn1U-RIQPj"
   },
   "outputs": [],
   "source": [
    "#Make predictions on the test set based on the trained model.\n",
    "\n",
    "preds_cb = cb.predict(x_test)\n",
    "\n",
    "probs_cb = cb.predict_proba(x_test)\n",
    "probs_cb = probs_cb[:, 1]"
   ]
  },
  {
   "cell_type": "code",
   "execution_count": null,
   "metadata": {
    "colab": {
     "base_uri": "https://localhost:8080/"
    },
    "executionInfo": {
     "elapsed": 14,
     "status": "ok",
     "timestamp": 1669321053293,
     "user": {
      "displayName": "Mert Karabacak",
      "userId": "14308977132914475412"
     },
     "user_tz": 300
    },
    "id": "PTi-oHuXIQPj",
    "outputId": "7a02807e-4b22-4635-eb89-cbdd53cb440f"
   },
   "outputs": [],
   "source": [
    "#Evaluate CatBoost model.\n",
    "\n",
    "cb_precision = precision_score(preds_cb,y_test)\n",
    "cb_recall = recall_score(preds_cb,y_test)\n",
    "cb_f1 = f1_score(preds_cb,y_test)\n",
    "cb_acc = accuracy_score(preds_cb,y_test)   \n",
    "cb_mcc = matthews_corrcoef(y_test, preds_cb)\n",
    "cb_auroc = roc_auc_score(y_test, probs_cb)\n",
    "                          \n",
    "print(\"Precision: %.3f\" % (cb_precision))\n",
    "print(\"Recall: %.3f\" % (cb_recall))\n",
    "print(\"F1 Score: %.3f\" %(cb_f1))\n",
    "print('Accuracy: %.3f' % (cb_acc))\n",
    "print('MCC: %.3f' % (cb_mcc))\n",
    "print('AUROC: %.3f' % (cb_auroc))"
   ]
  },
  {
   "cell_type": "code",
   "execution_count": null,
   "metadata": {
    "colab": {
     "base_uri": "https://localhost:8080/"
    },
    "executionInfo": {
     "elapsed": 151,
     "status": "ok",
     "timestamp": 1669321161654,
     "user": {
      "displayName": "Mert Karabacak",
      "userId": "14308977132914475412"
     },
     "user_tz": 300
    },
    "id": "13zX6UcEIQPj",
    "outputId": "082dd488-5b4c-41c9-da18-2713314c2f32"
   },
   "outputs": [],
   "source": [
    "#Evaluate XGBoost model (PRC and AUPRC).\n",
    "\n",
    "cb_precision, cb_recall, _ = precision_recall_curve(y_test, probs_cb)\n",
    "cb_auprc = auc(cb_recall, cb_precision)\n",
    "\n",
    "print('AUPRC: %.3f' % (cb_auprc))"
   ]
  },
  {
   "cell_type": "code",
   "execution_count": null,
   "metadata": {
    "id": "SA-o4SiKIQPj"
   },
   "outputs": [],
   "source": [
    "#Recalculate precision and recall for calculation purposes.\n",
    "\n",
    "cb_precision = precision_score(preds_cb,y_test)\n",
    "cb_recall = recall_score(preds_cb,y_test)\n",
    "\n",
    "cb_results = [cb_precision, cb_recall, cb_f1, cb_acc, cb_mcc, cb_auroc, cb_auprc]"
   ]
  },
  {
   "cell_type": "code",
   "execution_count": null,
   "metadata": {
    "id": "qiuZD44hIQPj"
   },
   "outputs": [],
   "source": [
    "#Recalculate precision recall curve for plotting purposes.\n",
    "\n",
    "cb_precision, cb_recall, _ = precision_recall_curve(y_test, probs_cb)"
   ]
  },
  {
   "cell_type": "markdown",
   "metadata": {
    "id": "mQRRrBp-IQPk"
   },
   "source": [
    "# Random Forest"
   ]
  },
  {
   "cell_type": "code",
   "execution_count": null,
   "metadata": {
    "colab": {
     "base_uri": "https://localhost:8080/"
    },
    "executionInfo": {
     "elapsed": 184196,
     "status": "ok",
     "timestamp": 1669321369555,
     "user": {
      "displayName": "Mert Karabacak",
      "userId": "14308977132914475412"
     },
     "user_tz": 300
    },
    "id": "kFTmQMQxIQPk",
    "outputId": "82d458cf-465b-4ae1-d24f-6aaebe22d30a"
   },
   "outputs": [],
   "source": [
    "#Hyperparameter tuning for Random Forest.\n",
    "\n",
    "def objective(trial):\n",
    "    data, target = x_train, y_train\n",
    "    train_x, valid_x, train_y, valid_y = train_test_split(data, target, test_size=0.25)    \n",
    "    \n",
    "    param = {\n",
    "        \"criterion\": trial.suggest_categorical(\"criterion\", [\"gini\", \"entropy\"]),\n",
    "        \"bootstrap\": trial.suggest_categorical(\"bootstrap\", [\"auto\", \"sqrt\"]),\n",
    "        \"max_features\": trial.suggest_categorical(\"max_features\", [\"auto\", \"sqrt\",\"log2\", None]),\n",
    "        \"max_depth\": trial.suggest_int(\"max_depth\", 1, 100),\n",
    "        \"n_estimators\": trial.suggest_int(\"n_estimators\", 100, 2000, 100),\n",
    "        \"min_samples_leaf\": trial.suggest_int(\"min_samples_leaf\", 1, 4, 1),\n",
    "        \"min_samples_split\": trial.suggest_int(\"min_samples_split\", 2, 10, 1),\n",
    "    }\n",
    "\n",
    "    rf = RandomForestClassifier(**param)\n",
    "\n",
    "    rf.fit(\n",
    "        train_x,\n",
    "        train_y,\n",
    "    )\n",
    "\n",
    "    preds = rf.predict(valid_x)\n",
    "    pred_labels = np.rint(preds)\n",
    "    auc = sklearn.metrics.roc_auc_score(valid_y, pred_labels)\n",
    "\n",
    "    return auc\n",
    "\n",
    "\n",
    "if __name__ == \"__main__\":\n",
    "    study = optuna.create_study(direction='maximize')\n",
    "    study.optimize(objective, n_trials=100, timeout=600)\n",
    "\n",
    "    print(\"Number of finished trials: {}\".format(len(study.trials)))\n",
    "\n",
    "    print(\"Best trial:\")\n",
    "    trial = study.best_trial\n",
    "\n",
    "    print(\"  Value: {}\".format(trial.value))\n",
    "\n",
    "    print(\"  Params: \")\n",
    "    for key, value in trial.params.items():\n",
    "        print(\"    {}: {}\".format(key, value))\n",
    "        \n",
    "    rf_params = {}\n",
    "    \n",
    "    for key, value in trial.params.items():\n",
    "        rf_params[key] = value"
   ]
  },
  {
   "cell_type": "code",
   "execution_count": null,
   "metadata": {
    "colab": {
     "base_uri": "https://localhost:8080/"
    },
    "executionInfo": {
     "elapsed": 4037,
     "status": "ok",
     "timestamp": 1669321395179,
     "user": {
      "displayName": "Mert Karabacak",
      "userId": "14308977132914475412"
     },
     "user_tz": 300
    },
    "id": "o2nnbDAsIQPk",
    "outputId": "c3196910-6b76-45f3-8bc4-a57340370e5c"
   },
   "outputs": [],
   "source": [
    "#Fit Random Forest.\n",
    "\n",
    "from sklearn.ensemble import RandomForestClassifier\n",
    "\n",
    "rf = RandomForestClassifier(**rf_params)\n",
    "\n",
    "rf.fit(x_train, y_train)"
   ]
  },
  {
   "cell_type": "code",
   "execution_count": null,
   "metadata": {
    "id": "pSsBliFuIQPk"
   },
   "outputs": [],
   "source": [
    "#Make predictions on the test set based on the trained model.\n",
    "\n",
    "preds_rf = rf.predict(x_test)\n",
    "\n",
    "probs_rf = rf.predict_proba(x_test)\n",
    "probs_rf = probs_rf[:, 1]"
   ]
  },
  {
   "cell_type": "code",
   "execution_count": null,
   "metadata": {
    "colab": {
     "base_uri": "https://localhost:8080/"
    },
    "executionInfo": {
     "elapsed": 5,
     "status": "ok",
     "timestamp": 1669321395937,
     "user": {
      "displayName": "Mert Karabacak",
      "userId": "14308977132914475412"
     },
     "user_tz": 300
    },
    "id": "haQcIGjoIQPk",
    "outputId": "3ec51d2d-7bd1-4c5b-8aa4-c4092f9e2ed6"
   },
   "outputs": [],
   "source": [
    "#Evaluate Random Forest model.\n",
    "\n",
    "rf_precision = precision_score(preds_rf,y_test)\n",
    "rf_recall = recall_score(preds_rf,y_test)\n",
    "rf_f1 = f1_score(preds_rf,y_test)\n",
    "rf_acc = accuracy_score(preds_rf,y_test)   \n",
    "rf_mcc = matthews_corrcoef(y_test, preds_rf)\n",
    "rf_auroc = roc_auc_score(y_test, probs_rf)\n",
    "                          \n",
    "print(\"Precision: %.3f\" % (rf_precision))\n",
    "print(\"Recall: %.3f\" % (rf_recall))\n",
    "print(\"F1 Score: %.3f\" %(rf_f1))\n",
    "print('Accuracy: %.3f' % (rf_acc))\n",
    "print('MCC: %.3f' % (rf_mcc))\n",
    "print('AUROC: %.3f' % (rf_auroc))"
   ]
  },
  {
   "cell_type": "code",
   "execution_count": null,
   "metadata": {
    "colab": {
     "base_uri": "https://localhost:8080/"
    },
    "executionInfo": {
     "elapsed": 4,
     "status": "ok",
     "timestamp": 1669321395937,
     "user": {
      "displayName": "Mert Karabacak",
      "userId": "14308977132914475412"
     },
     "user_tz": 300
    },
    "id": "z-UyQn0cIQPk",
    "outputId": "015e33d0-f985-402d-ce3f-679de688ba22"
   },
   "outputs": [],
   "source": [
    "#Evaluate Random Forest model (PRC and AUPRC).\n",
    "\n",
    "rf_precision, rf_recall, _ = precision_recall_curve(y_test, probs_rf)\n",
    "rf_auprc = auc(rf_recall, rf_precision)\n",
    "\n",
    "print('AUPRC: %.3f' % (rf_auprc))"
   ]
  },
  {
   "cell_type": "code",
   "execution_count": null,
   "metadata": {
    "id": "KTK4p-ooIQPk"
   },
   "outputs": [],
   "source": [
    "#Recalculate precision and recall for calculation purposes.\n",
    "\n",
    "rf_precision = precision_score(preds_rf,y_test)\n",
    "rf_recall = recall_score(preds_rf,y_test)\n",
    "\n",
    "rf_results = [rf_precision, rf_recall, rf_f1, rf_acc, rf_mcc, rf_auroc, rf_auprc]"
   ]
  },
  {
   "cell_type": "code",
   "execution_count": null,
   "metadata": {
    "id": "Drrp3KEQIQPk"
   },
   "outputs": [],
   "source": [
    "#Recalculate precision recall curve for plotting purposes.\n",
    "\n",
    "rf_precision, rf_recall, _ = precision_recall_curve(y_test, probs_rf)"
   ]
  },
  {
   "cell_type": "markdown",
   "metadata": {
    "id": "fLvNgketIQPl"
   },
   "source": [
    "# ROC, PR, and Calibration Plots"
   ]
  },
  {
   "cell_type": "code",
   "execution_count": null,
   "metadata": {
    "colab": {
     "base_uri": "https://localhost:8080/",
     "height": 760
    },
    "executionInfo": {
     "elapsed": 6273,
     "status": "ok",
     "timestamp": 1669321460735,
     "user": {
      "displayName": "Mert Karabacak",
      "userId": "14308977132914475412"
     },
     "user_tz": 300
    },
    "id": "0mMqO-euIQPl",
    "outputId": "58941214-ab6c-4833-ddc9-1f75b105da32"
   },
   "outputs": [],
   "source": [
    "f = pyplot.figure()\n",
    "f.set_figwidth(12)\n",
    "f.set_figheight(12)\n",
    "\n",
    "xgb_fpr, xgb_tpr, _ = roc_curve(y_test, probs_xgb)\n",
    "pyplot.plot(xgb_fpr, xgb_tpr, label='XGBoost AUROC: {:.3f}'.format(xgb_auroc), color='red')\n",
    "\n",
    "lgb_fpr, lgb_tpr, _ = roc_curve(y_test, probs_lgb)\n",
    "pyplot.plot(lgb_fpr, lgb_tpr, label='LightGBM AUROC: {:.3f}'.format(lgb_auroc), color='darkblue')\n",
    "\n",
    "cb_fpr, cb_tpr, _ = roc_curve(y_test, probs_cb)\n",
    "pyplot.plot(cb_fpr, cb_tpr, label='CatBoost AUROC: {:.3f}'.format(cb_auroc), color = 'darkgreen')\n",
    "\n",
    "rf_fpr, rf_tpr, _ = roc_curve(y_test, probs_rf)\n",
    "pyplot.plot(rf_fpr, rf_tpr, label='Random Forest AUROC: {:.3f}'.format(rf_auroc), color = 'orange')\n",
    "\n",
    "pyplot.plot([0, 1], [0, 1], linestyle = '--')\n",
    "\n",
    "pyplot.title('Receiver Operating Characteristic Curve', loc='center', fontsize = 20, fontweight = 'heavy', pad = 20)\n",
    "pyplot.xlabel('False Positive Rate', fontsize = 16, labelpad = 10)\n",
    "pyplot.ylabel('True Positive Rate', fontsize = 16, labelpad = 10)\n",
    "pyplot.tick_params(axis=\"y\",direction=\"out\")\n",
    "pyplot.tick_params(axis=\"x\",direction=\"out\")\n",
    "\n",
    "leg = pyplot.legend(loc = 'lower right', fontsize = 12)\n",
    "\n",
    "pyplot.savefig('./DMVO-mRS/roc.png', dpi=300)\n",
    "pyplot.show()"
   ]
  },
  {
   "cell_type": "code",
   "execution_count": null,
   "metadata": {
    "colab": {
     "base_uri": "https://localhost:8080/",
     "height": 760
    },
    "executionInfo": {
     "elapsed": 2320,
     "status": "ok",
     "timestamp": 1669321469896,
     "user": {
      "displayName": "Mert Karabacak",
      "userId": "14308977132914475412"
     },
     "user_tz": 300
    },
    "id": "GpotrYFBIQPl",
    "outputId": "04fec5bc-c9eb-44cb-b9f3-75b0f9490ec7"
   },
   "outputs": [],
   "source": [
    "f = pyplot.figure()\n",
    "f.set_figwidth(12)\n",
    "f.set_figheight(12)\n",
    "\n",
    "pyplot.plot(xgb_recall, xgb_precision, label='XGBoost AUPRC: {:.3f}'.format(xgb_auprc), color = 'red')\n",
    "pyplot.plot(lgb_recall, lgb_precision, label='LightGBM AUPRC: {:.3f}'.format(lgb_auprc), color = 'darkblue')\n",
    "pyplot.plot(cb_recall, cb_precision, label='CatBoost AUPRC: {:.3f}'.format(cb_auprc), color = 'darkgreen')\n",
    "pyplot.plot(rf_recall, rf_precision, label='Random Forest AUPRC: {:.3f}'.format(rf_auprc), color = 'orange')\n",
    "\n",
    "\n",
    "pyplot.title('Precision Recall Curve', loc='center', fontsize = 20, fontweight = 'heavy', pad = 20)\n",
    "pyplot.xlabel('Recall', fontsize = 16, labelpad = 10)\n",
    "pyplot.ylabel('Precision', fontsize = 16, labelpad = 10)\n",
    "leg = pyplot.legend(loc = 'lower right', fontsize = 12)\n",
    "\n",
    "pyplot.savefig('./DMVO-mRS/prc.png', dpi=300)\n",
    "pyplot.show()"
   ]
  },
  {
   "cell_type": "markdown",
   "metadata": {
    "id": "rOySRdcDIQPl"
   },
   "source": [
    "# Results Summary"
   ]
  },
  {
   "cell_type": "code",
   "execution_count": null,
   "metadata": {
    "colab": {
     "base_uri": "https://localhost:8080/",
     "height": 269
    },
    "executionInfo": {
     "elapsed": 129,
     "status": "ok",
     "timestamp": 1669321488720,
     "user": {
      "displayName": "Mert Karabacak",
      "userId": "14308977132914475412"
     },
     "user_tz": 300
    },
    "id": "YBGJf087IQPl",
    "outputId": "15082f98-443a-423b-ba71-48405ca101a0"
   },
   "outputs": [],
   "source": [
    "results = {'XGBoost':xgb_results, 'LightGBM':lgb_results, 'CatBoost':cb_results, 'Random Forest':rf_results}\n",
    "\n",
    "results = pd.DataFrame(results, columns = ['XGBoost', 'LightGBM', 'CatBoost', 'Random Forest'])\n",
    "\n",
    "results"
   ]
  },
  {
   "cell_type": "code",
   "execution_count": null,
   "metadata": {
    "colab": {
     "base_uri": "https://localhost:8080/",
     "height": 175
    },
    "executionInfo": {
     "elapsed": 3,
     "status": "ok",
     "timestamp": 1669321489227,
     "user": {
      "displayName": "Mert Karabacak",
      "userId": "14308977132914475412"
     },
     "user_tz": 300
    },
    "id": "kznujF4kIQPl",
    "outputId": "171615e2-9602-4a13-aee3-23edb7493321"
   },
   "outputs": [],
   "source": [
    "results = pd.DataFrame({'XGBoost':xgb_results, 'LightGBM':lgb_results, 'CatBoost':cb_results, 'Random Forest':rf_results})\n",
    "\n",
    "results = results.T\n",
    "\n",
    "results.columns = ['Precision', 'Recall', 'F1', 'Accuracy', 'MCC', 'AUROC', 'AUPRC']\n",
    "\n",
    "results.to_csv('./DMVO-mRS/results.csv')\n",
    "\n",
    "results"
   ]
  },
  {
   "cell_type": "markdown",
   "metadata": {
    "id": "qYnu4PnCIQPm"
   },
   "source": [
    "# SHAP Plots"
   ]
  },
  {
   "cell_type": "code",
   "execution_count": null,
   "metadata": {
    "colab": {
     "base_uri": "https://localhost:8080/"
    },
    "executionInfo": {
     "elapsed": 69044,
     "status": "ok",
     "timestamp": 1669321559678,
     "user": {
      "displayName": "Mert Karabacak",
      "userId": "14308977132914475412"
     },
     "user_tz": 300
    },
    "id": "C0Oe8J3-IQPm",
    "outputId": "5459d6b6-5ec3-41fd-8880-dc57722f4e01"
   },
   "outputs": [],
   "source": [
    "# Fits the explainer\n",
    "xgb_explainer = shap.Explainer(xgb.predict, x_test)\n",
    "lgb_explainer = shap.Explainer(lgb.predict, x_test)\n",
    "cb_explainer = shap.Explainer(cb.predict, x_test)\n",
    "rf_explainer = shap.Explainer(rf.predict, x_test)\n",
    "\n",
    "# Calculates the SHAP values - It takes some time\n",
    "xgb_shap_values = xgb_explainer(x_test)\n",
    "lgb_shap_values = lgb_explainer(x_test)\n",
    "cb_shap_values = cb_explainer(x_test)\n",
    "rf_shap_values = rf_explainer(x_test)"
   ]
  },
  {
   "cell_type": "code",
   "execution_count": null,
   "metadata": {
    "id": "E3bKGZtwIQPm"
   },
   "outputs": [],
   "source": [
    "from scipy.special import softmax\n",
    "\n",
    "def print_feature_importances_shap_values(shap_values, features):\n",
    "    '''\n",
    "    Prints the feature importances based on SHAP values in an ordered way\n",
    "    shap_values -> The SHAP values calculated from a shap.Explainer object\n",
    "    features -> The name of the features, on the order presented to the explainer\n",
    "    '''\n",
    "    # Calculates the feature importance (mean absolute shap value) for each feature\n",
    "    importances = []\n",
    "    for i in range(shap_values.values.shape[1]):\n",
    "        importances.append(np.mean(np.abs(shap_values.values[:, i])))\n",
    "    # Calculates the normalized version\n",
    "    importances_norm = softmax(importances)\n",
    "    # Organize the importances and columns in a dictionary\n",
    "    feature_importances = {fea: imp for imp, fea in zip(importances, features)}\n",
    "    feature_importances_norm = {fea: imp for imp, fea in zip(importances_norm, features)}\n",
    "    # Sorts the dictionary\n",
    "    feature_importances = {k: v for k, v in sorted(feature_importances.items(), key=lambda item: item[1], reverse = True)}\n",
    "    feature_importances_norm= {k: v for k, v in sorted(feature_importances_norm.items(), key=lambda item: item[1], reverse = True)}\n",
    "    # Prints the feature importances\n",
    "    for k, v in feature_importances.items():\n",
    "        print(f\"{k} -> {v:.4f} (softmax = {feature_importances_norm[k]:.4f})\")"
   ]
  },
  {
   "cell_type": "code",
   "execution_count": null,
   "metadata": {
    "colab": {
     "base_uri": "https://localhost:8080/",
     "height": 477
    },
    "executionInfo": {
     "elapsed": 2082,
     "status": "ok",
     "timestamp": 1669321668750,
     "user": {
      "displayName": "Mert Karabacak",
      "userId": "14308977132914475412"
     },
     "user_tz": 300
    },
    "id": "C09esVZrIQPm",
    "outputId": "f8b69823-415e-4f75-f4b5-eff07210b4f7"
   },
   "outputs": [],
   "source": [
    "shap.plots.bar(xgb_shap_values, max_display = 10, show=False)\n",
    "pyplot.tight_layout()\n",
    "pyplot.savefig('./DMVO-mRS/shap_xgb.png', dpi=300)"
   ]
  },
  {
   "cell_type": "code",
   "execution_count": null,
   "metadata": {
    "colab": {
     "base_uri": "https://localhost:8080/",
     "height": 477
    },
    "executionInfo": {
     "elapsed": 1601,
     "status": "ok",
     "timestamp": 1669321673132,
     "user": {
      "displayName": "Mert Karabacak",
      "userId": "14308977132914475412"
     },
     "user_tz": 300
    },
    "id": "HBQmzC4-IQPm",
    "outputId": "c9799179-5d51-4807-e858-10b81acb2a3a"
   },
   "outputs": [],
   "source": [
    "shap.plots.bar(lgb_shap_values, max_display = 10, show=False)\n",
    "pyplot.tight_layout()\n",
    "pyplot.savefig('./DMVO-mRS/shap_lgb.png', dpi=300)"
   ]
  },
  {
   "cell_type": "code",
   "execution_count": null,
   "metadata": {
    "colab": {
     "base_uri": "https://localhost:8080/",
     "height": 477
    },
    "executionInfo": {
     "elapsed": 1319,
     "status": "ok",
     "timestamp": 1669321676895,
     "user": {
      "displayName": "Mert Karabacak",
      "userId": "14308977132914475412"
     },
     "user_tz": 300
    },
    "id": "PGiIayQaIQPm",
    "outputId": "795559d6-3ab4-4612-9640-3b1537c715ff"
   },
   "outputs": [],
   "source": [
    "shap.plots.bar(cb_shap_values, max_display = 10, show=False)\n",
    "pyplot.tight_layout()\n",
    "pyplot.savefig('./DMVO-mRS/shap_cb.png', dpi=300)"
   ]
  },
  {
   "cell_type": "code",
   "execution_count": null,
   "metadata": {
    "colab": {
     "base_uri": "https://localhost:8080/",
     "height": 477
    },
    "executionInfo": {
     "elapsed": 1838,
     "status": "ok",
     "timestamp": 1669321680058,
     "user": {
      "displayName": "Mert Karabacak",
      "userId": "14308977132914475412"
     },
     "user_tz": 300
    },
    "id": "Vj3B1IeWIQPm",
    "outputId": "6e8f7d7c-f7c6-4ccf-ab82-e7ea35c5f26a"
   },
   "outputs": [],
   "source": [
    "shap.plots.bar(rf_shap_values, max_display = 10, show=False)\n",
    "pyplot.tight_layout()\n",
    "pyplot.savefig('./DMVO-mRS/shap_rf.png', dpi=300)"
   ]
  }
 ],
 "metadata": {
  "colab": {
   "collapsed_sections": [
    "9VszU3k5IQPh",
    "pypALF20IQPi",
    "mQRRrBp-IQPk",
    "fLvNgketIQPl",
    "rOySRdcDIQPl",
    "qYnu4PnCIQPm"
   ],
   "provenance": [
    {
     "file_id": "1V4GD1xQ2LBQhBny_OS3iBlGyn9mh7oWM",
     "timestamp": 1669318954642
    },
    {
     "file_id": "1euhY_qXOTy9qT_vn0Q6Kb2eEUOCHom8m",
     "timestamp": 1669310009337
    },
    {
     "file_id": "1ksEkZ_gSIaosRd56LkYx54z5oGNBgq2C",
     "timestamp": 1668779215067
    },
    {
     "file_id": "1o0f_u5loubhXZTvFpGUCA_m2gpTKQ6EL",
     "timestamp": 1668619772114
    }
   ]
  },
  "kernelspec": {
   "display_name": "Python 3 (ipykernel)",
   "language": "python",
   "name": "python3"
  },
  "language_info": {
   "codemirror_mode": {
    "name": "ipython",
    "version": 3
   },
   "file_extension": ".py",
   "mimetype": "text/x-python",
   "name": "python",
   "nbconvert_exporter": "python",
   "pygments_lexer": "ipython3",
   "version": "3.9.6"
  }
 },
 "nbformat": 4,
 "nbformat_minor": 4
}
