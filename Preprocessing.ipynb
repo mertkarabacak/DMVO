{
 "cells": [
  {
   "cell_type": "code",
   "execution_count": null,
   "id": "qBzW_Vnz4Die",
   "metadata": {
    "id": "qBzW_Vnz4Die"
   },
   "outputs": [],
   "source": [
    "import numpy as np\n",
    "import pandas as pd\n",
    "from pandas.api.types import CategoricalDtype\n",
    "\n",
    "from sklearn.preprocessing import OneHotEncoder\n",
    "from sklearn.preprocessing import LabelEncoder\n",
    "from sklearn.preprocessing import RobustScaler\n",
    "from sklearn.preprocessing import MinMaxScaler\n",
    "from sklearn.impute import KNNImputer\n",
    "\n",
    "from matplotlib import pyplot as plt\n",
    "\n",
    "pd.set_option('display.max_rows', None)"
   ]
  },
  {
   "cell_type": "code",
   "execution_count": null,
   "id": "nK9_9v8P4Dik",
   "metadata": {
    "colab": {
     "base_uri": "https://localhost:8080/",
     "height": 661
    },
    "executionInfo": {
     "elapsed": 207,
     "status": "ok",
     "timestamp": 1669320628654,
     "user": {
      "displayName": "Mert Karabacak",
      "userId": "14308977132914475412"
     },
     "user_tz": 300
    },
    "id": "nK9_9v8P4Dik",
    "outputId": "2bac79c5-a31c-4684-9901-68acb03a7599"
   },
   "outputs": [],
   "source": [
    "#Open csv file.\n",
    "\n",
    "data = pd.read_csv(\"./DMVO-mRS/DMVO-mRS.csv\", index_col=0, encoding = 'latin1', low_memory = False)\n",
    "data.head()"
   ]
  },
  {
   "cell_type": "code",
   "execution_count": null,
   "id": "io2d2fwK4Dim",
   "metadata": {
    "colab": {
     "base_uri": "https://localhost:8080/"
    },
    "executionInfo": {
     "elapsed": 9,
     "status": "ok",
     "timestamp": 1669320628654,
     "user": {
      "displayName": "Mert Karabacak",
      "userId": "14308977132914475412"
     },
     "user_tz": 300
    },
    "id": "io2d2fwK4Dim",
    "outputId": "e663b1d1-87bd-4ccc-a0c3-5008366fb862"
   },
   "outputs": [],
   "source": [
    "#See all columns.\n",
    "print(list(data.columns))"
   ]
  },
  {
   "cell_type": "code",
   "execution_count": null,
   "id": "0jxWMwZSD006",
   "metadata": {
    "colab": {
     "base_uri": "https://localhost:8080/"
    },
    "executionInfo": {
     "elapsed": 7,
     "status": "ok",
     "timestamp": 1669320628654,
     "user": {
      "displayName": "Mert Karabacak",
      "userId": "14308977132914475412"
     },
     "user_tz": 300
    },
    "id": "0jxWMwZSD006",
    "outputId": "e5698c3e-123c-4042-afe7-26e009d4da1d"
   },
   "outputs": [],
   "source": [
    "#Check data shape.\n",
    "\n",
    "data.shape"
   ]
  },
  {
   "cell_type": "code",
   "execution_count": null,
   "id": "3Pv9RhHREXxH",
   "metadata": {
    "id": "3Pv9RhHREXxH"
   },
   "outputs": [],
   "source": [
    "#Define variables of interest (predictor variables, inclusion/exclusion criteria, outcomes of interest).\n",
    "\n",
    "variables = ['Age', 'Sex', 'Race', 'Smoking', 'Alcohol', 'Hypertension ', 'Dyslipidemia', 'Diabetes', 'Coronary Artery Disease', 'A-Fib', 'History of Malignancy', 'Antiplatelet or Anticoagulation', 'Prior stroke/TIA ', 'HIV', 'HCV', 'Chronic Kidney disease', 'Sleep apnea', 'PVD', 'DVT/PE', 'Age related Admission SI', 'Admission SI ', 'Admission BMI', 'Admission SBP', 'Admission DBP', 'Admission HR', 'Admission RR', 'Admission SpO2', 'Admission Sodium', 'Admission Potassium', 'Admission Glucose ', 'Admission Calcium', 'Admission BUN', 'Admission Creatinine', 'Admission BUN:Creatinine Ratio', 'Admission Hematocrit ', 'Admission Hemoglobin', 'Admission WBC Count', 'Admission Platelet Count', 'Admission Platelet:WBC Ratio', 'Admission PT', 'Admission INR', 'Admission PTT', 'Admission Troponin I', 'Admission NIHSS', 'Admission LAMS', 'Occlusion Laterality', 'Occlusion Site', 'Occlusion Proximity', 'Superior vs Inferior', 'Occlusion Segment', 'Baseline NCCT ASPECTS', 'Hyperdense MCA', 'Mechanical Thrombectomy', 'Number of Passes', 'mTICI Score', 'Door to CT (minutes)', 'Door to Needle (minutes)', 'Door to Groin Puncture (minutes)', 'Groin puncture to recanalization (minutes)', 'Hemorrhagic Transformation', 'Type of HT', 'Discharge Sodium', 'Discharge Potassium', 'Discharge Glucose ', 'Discharge Calcium', 'Discharge BUN', 'Discharge Creatinine', 'Discharge BUN:Creatinine Ratio', 'Discharge Hematocrit ', 'Discharge Hemoglobin', 'Discharge WBC Count (x 1000)', 'Discharge Platelet Count (x 1000)', 'Discharge Platelets:WBC Ratio', 'Discharge PT', 'Discharge INR', 'Discharge PTT', 'Discharge Troponin', 'Discharge BMI', 'Discharge SBP', 'Discharge DBP', 'Discharge HR', 'Discharge RR', 'Discharge SpO2', '90-day Modified Rankin Score']\n"
   ]
  },
  {
   "cell_type": "code",
   "execution_count": null,
   "id": "fjrDdSyLEiv5",
   "metadata": {
    "colab": {
     "base_uri": "https://localhost:8080/"
    },
    "executionInfo": {
     "elapsed": 116,
     "status": "ok",
     "timestamp": 1669320628765,
     "user": {
      "displayName": "Mert Karabacak",
      "userId": "14308977132914475412"
     },
     "user_tz": 300
    },
    "id": "fjrDdSyLEiv5",
    "outputId": "d4a53717-4e8a-44d5-9edf-3a93f9563610"
   },
   "outputs": [],
   "source": [
    "#Remove unwanted columns and check data shape.\n",
    "\n",
    "data = data[variables]\n",
    "\n",
    "data.shape"
   ]
  },
  {
   "cell_type": "code",
   "execution_count": null,
   "id": "0nO8VMjyZCJp",
   "metadata": {
    "colab": {
     "base_uri": "https://localhost:8080/"
    },
    "executionInfo": {
     "elapsed": 7,
     "status": "ok",
     "timestamp": 1669320628765,
     "user": {
      "displayName": "Mert Karabacak",
      "userId": "14308977132914475412"
     },
     "user_tz": 300
    },
    "id": "0nO8VMjyZCJp",
    "outputId": "7ccb908e-6b50-4d11-a1a0-08501017591a"
   },
   "outputs": [],
   "source": [
    "#Check data for 'mTICI Score'.\n",
    "\n",
    "data['mTICI Score'].value_counts(dropna=False)"
   ]
  },
  {
   "cell_type": "code",
   "execution_count": null,
   "id": "NLHOGN7G4Di5",
   "metadata": {
    "colab": {
     "base_uri": "https://localhost:8080/"
    },
    "executionInfo": {
     "elapsed": 6,
     "status": "ok",
     "timestamp": 1669320628765,
     "user": {
      "displayName": "Mert Karabacak",
      "userId": "14308977132914475412"
     },
     "user_tz": 300
    },
    "id": "NLHOGN7G4Di5",
    "outputId": "a43c35f6-9128-426f-9567-b353af3c7ec7"
   },
   "outputs": [],
   "source": [
    "#Cast 'mTICI Score' class as ordered categorical.\n",
    "\n",
    "cat_type = CategoricalDtype(categories=['MT not attempted', '0','1','2a','2b','2c','3'], ordered=True)\n",
    "data['mTICI Score'].astype(cat_type)"
   ]
  },
  {
   "cell_type": "code",
   "execution_count": null,
   "id": "3eyeObnuZgZd",
   "metadata": {
    "colab": {
     "base_uri": "https://localhost:8080/"
    },
    "executionInfo": {
     "elapsed": 5,
     "status": "ok",
     "timestamp": 1669320628766,
     "user": {
      "displayName": "Mert Karabacak",
      "userId": "14308977132914475412"
     },
     "user_tz": 300
    },
    "id": "3eyeObnuZgZd",
    "outputId": "54278ee4-d860-4dcf-839e-17863ef07a24"
   },
   "outputs": [],
   "source": [
    "#Check data for 'Number of Passes'.\n",
    "\n",
    "data['Number of Passes'].value_counts(dropna=False)"
   ]
  },
  {
   "cell_type": "code",
   "execution_count": null,
   "id": "FarY4z6QcG0o",
   "metadata": {
    "colab": {
     "base_uri": "https://localhost:8080/"
    },
    "executionInfo": {
     "elapsed": 128,
     "status": "ok",
     "timestamp": 1669320628891,
     "user": {
      "displayName": "Mert Karabacak",
      "userId": "14308977132914475412"
     },
     "user_tz": 300
    },
    "id": "FarY4z6QcG0o",
    "outputId": "97fd9f43-56cb-479d-b1fc-2f7839163c11"
   },
   "outputs": [],
   "source": [
    "#Cast Number of Passes as ordered categorical.\n",
    "\n",
    "cat_type = CategoricalDtype(categories=['MT not attempted','0','1','2','3','4','5'], ordered=True)\n",
    "data['Number of Passes'].astype(cat_type)"
   ]
  },
  {
   "cell_type": "code",
   "execution_count": null,
   "id": "dqwlHHIg4Di_",
   "metadata": {
    "colab": {
     "base_uri": "https://localhost:8080/"
    },
    "executionInfo": {
     "elapsed": 5,
     "status": "ok",
     "timestamp": 1669320628891,
     "user": {
      "displayName": "Mert Karabacak",
      "userId": "14308977132914475412"
     },
     "user_tz": 300
    },
    "id": "dqwlHHIg4Di_",
    "outputId": "7c85d5f5-f127-4d7f-d7af-ffdf6caa4199"
   },
   "outputs": [],
   "source": [
    "#Check data for '90-day Modified Rankin Score'.\n",
    "\n",
    "data['90-day Modified Rankin Score'].value_counts(dropna=False)"
   ]
  },
  {
   "cell_type": "code",
   "execution_count": null,
   "id": "xrIe41gV4DjA",
   "metadata": {
    "id": "xrIe41gV4DjA"
   },
   "outputs": [],
   "source": [
    "#Drop patients with unknown '90-day Modified Rankin Score'.\n",
    "\n",
    "data = data[data['90-day Modified Rankin Score'].notna()]"
   ]
  },
  {
   "cell_type": "code",
   "execution_count": null,
   "id": "dXp4jsENIlNs",
   "metadata": {
    "colab": {
     "base_uri": "https://localhost:8080/"
    },
    "executionInfo": {
     "elapsed": 153,
     "status": "ok",
     "timestamp": 1669320629043,
     "user": {
      "displayName": "Mert Karabacak",
      "userId": "14308977132914475412"
     },
     "user_tz": 300
    },
    "id": "dXp4jsENIlNs",
    "outputId": "4cb9aff3-9615-4603-c68c-71f0de9d794a"
   },
   "outputs": [],
   "source": [
    "#Show NIHSS_SHIFT after dropping patients with unknown '90-day Modified Rankin Score'.\n",
    "\n",
    "data['90-day Modified Rankin Score'].value_counts(dropna=False)"
   ]
  },
  {
   "cell_type": "code",
   "execution_count": null,
   "id": "7VzOm8TY4DjE",
   "metadata": {
    "colab": {
     "base_uri": "https://localhost:8080/"
    },
    "executionInfo": {
     "elapsed": 6,
     "status": "ok",
     "timestamp": 1669320629043,
     "user": {
      "displayName": "Mert Karabacak",
      "userId": "14308977132914475412"
     },
     "user_tz": 300
    },
    "id": "7VzOm8TY4DjE",
    "outputId": "5c49ce23-0f6e-4bff-ad62-22a81e8dbee3"
   },
   "outputs": [],
   "source": [
    "#Convert '90-day Modified Rankin Score' into categorical data in a column named 'mRS Category'.\n",
    "\n",
    "data.loc[data['90-day Modified Rankin Score'] <= 2, 'mRS Category'] = 'Low'\n",
    "data.loc[data['90-day Modified Rankin Score'] > 2, 'mRS Category'] = 'High'"
   ]
  },
  {
   "cell_type": "code",
   "execution_count": null,
   "id": "0x4wbcY7apaM",
   "metadata": {
    "colab": {
     "base_uri": "https://localhost:8080/"
    },
    "executionInfo": {
     "elapsed": 4,
     "status": "ok",
     "timestamp": 1669320629043,
     "user": {
      "displayName": "Mert Karabacak",
      "userId": "14308977132914475412"
     },
     "user_tz": 300
    },
    "id": "0x4wbcY7apaM",
    "outputId": "0625c21f-f769-46d7-c971-617fe01801e3"
   },
   "outputs": [],
   "source": [
    "#Show 'mRS Category' as categorical.\n",
    "\n",
    "data['mRS Category'].value_counts(dropna=False)"
   ]
  },
  {
   "cell_type": "code",
   "execution_count": null,
   "id": "1vrn94qE4DjF",
   "metadata": {
    "colab": {
     "base_uri": "https://localhost:8080/"
    },
    "executionInfo": {
     "elapsed": 139,
     "status": "ok",
     "timestamp": 1669320629180,
     "user": {
      "displayName": "Mert Karabacak",
      "userId": "14308977132914475412"
     },
     "user_tz": 300
    },
    "id": "1vrn94qE4DjF",
    "outputId": "46c4ec4a-170b-4531-d5ca-0627a35e891d"
   },
   "outputs": [],
   "source": [
    "#Check data shape.\n",
    "\n",
    "data.shape"
   ]
  },
  {
   "cell_type": "code",
   "execution_count": null,
   "id": "PH8yBgZS4DjF",
   "metadata": {
    "id": "PH8yBgZS4DjF"
   },
   "outputs": [],
   "source": [
    "#Save data.\n",
    "\n",
    "data.to_csv('./DMVO-mRS/dmvo_clean.csv')"
   ]
  },
  {
   "cell_type": "code",
   "execution_count": null,
   "id": "hrJoOHvi4DjG",
   "metadata": {
    "id": "hrJoOHvi4DjG"
   },
   "outputs": [],
   "source": [
    "#Drop unwanted columns.\n",
    "\n",
    "drop = ['90-day Modified Rankin Score']\n",
    "data.drop(drop, axis=1, inplace=True)"
   ]
  },
  {
   "cell_type": "code",
   "execution_count": null,
   "id": "5pTe9JwP4DjG",
   "metadata": {
    "colab": {
     "base_uri": "https://localhost:8080/"
    },
    "executionInfo": {
     "elapsed": 4,
     "status": "ok",
     "timestamp": 1669320629181,
     "user": {
      "displayName": "Mert Karabacak",
      "userId": "14308977132914475412"
     },
     "user_tz": 300
    },
    "id": "5pTe9JwP4DjG",
    "outputId": "5ffa2a1c-1f4f-4d08-a783-b9f07c0626a2"
   },
   "outputs": [],
   "source": [
    "#Check data shape.\n",
    "\n",
    "data.shape"
   ]
  },
  {
   "cell_type": "code",
   "execution_count": null,
   "id": "FRb-iXv0Mu58",
   "metadata": {
    "colab": {
     "base_uri": "https://localhost:8080/"
    },
    "executionInfo": {
     "elapsed": 4,
     "status": "ok",
     "timestamp": 1669320629181,
     "user": {
      "displayName": "Mert Karabacak",
      "userId": "14308977132914475412"
     },
     "user_tz": 300
    },
    "id": "FRb-iXv0Mu58",
    "outputId": "67e614c4-c70e-4264-bd3a-ef2626ff921b"
   },
   "outputs": [],
   "source": [
    "#See all columns with data types.\n",
    "\n",
    "data_types = data.dtypes\n",
    "\n",
    "data_types = pd.DataFrame(data_types)\n",
    "\n",
    "print(data_types)"
   ]
  },
  {
   "cell_type": "code",
   "execution_count": null,
   "id": "4YKx5SQgJdpv",
   "metadata": {
    "colab": {
     "base_uri": "https://localhost:8080/"
    },
    "executionInfo": {
     "elapsed": 142,
     "status": "ok",
     "timestamp": 1669320629321,
     "user": {
      "displayName": "Mert Karabacak",
      "userId": "14308977132914475412"
     },
     "user_tz": 300
    },
    "id": "4YKx5SQgJdpv",
    "outputId": "9d7d17c9-1c9c-4924-a8a8-2037870d0c4c"
   },
   "outputs": [],
   "source": [
    "#See categorical and continuous variables.\n",
    "\n",
    "print('Numerical columns: {}'.format(list(data.select_dtypes('number').columns)))\n",
    "print()\n",
    "print('Categorical columns: {}'.format(list(data.select_dtypes('object').columns)))"
   ]
  },
  {
   "cell_type": "code",
   "execution_count": null,
   "id": "kukxeYGVHjO_",
   "metadata": {
    "id": "kukxeYGVHjO_"
   },
   "outputs": [],
   "source": [
    "#Define numerical and categorical columns.\n",
    "\n",
    "num_cols = ['Age', 'Age related Admission SI', 'Admission SI ', 'Admission BMI', 'Admission SBP', 'Admission DBP', 'Admission HR', 'Admission RR', 'Admission SpO2', 'Admission Sodium', 'Admission Potassium', 'Admission Glucose ', 'Admission Calcium', 'Admission BUN', 'Admission Creatinine', 'Admission BUN:Creatinine Ratio', 'Admission Hematocrit ', 'Admission Hemoglobin', 'Admission WBC Count', 'Admission Platelet Count', 'Admission Platelet:WBC Ratio', 'Admission PT', 'Admission INR', 'Admission PTT', 'Admission Troponin I', 'Admission NIHSS', 'Admission LAMS', 'Door to CT (minutes)', 'Door to Needle (minutes)', 'Door to Groin Puncture (minutes)', 'Groin puncture to recanalization (minutes)', 'Baseline NCCT ASPECTS', 'Discharge BUN:Creatinine Ratio', 'Discharge Sodium', 'Discharge Potassium', 'Discharge Glucose ', 'Discharge Calcium', 'Discharge BUN', 'Discharge Creatinine', 'Discharge Hematocrit ', 'Discharge Hemoglobin', 'Discharge WBC Count (x 1000)', 'Discharge Platelet Count (x 1000)', 'Discharge Platelets:WBC Ratio', 'Discharge PT', 'Discharge INR', 'Discharge PTT', 'Discharge Troponin', 'Discharge BMI', 'Discharge SBP', 'Discharge DBP', 'Discharge HR', 'Discharge RR', 'Discharge SpO2']\n",
    "\n",
    "cat_cols = ['Sex', 'Race', 'Smoking', 'Alcohol', 'Hypertension ', 'Dyslipidemia', 'Diabetes', 'Coronary Artery Disease', 'A-Fib', 'History of Malignancy', 'Antiplatelet or Anticoagulation', 'Prior stroke/TIA ', 'HIV', 'HCV', 'Chronic Kidney disease', 'Sleep apnea', 'PVD', 'DVT/PE', 'Occlusion Laterality', 'Occlusion Site', 'Occlusion Proximity', 'Superior vs Inferior', 'Occlusion Segment', 'Hyperdense MCA', 'Mechanical Thrombectomy', 'Number of Passes', 'mTICI Score', 'Hemorrhagic Transformation', 'Type of HT', 'mRS Category']"
   ]
  },
  {
   "cell_type": "code",
   "execution_count": null,
   "id": "dtGhyfSf4DjH",
   "metadata": {
    "colab": {
     "base_uri": "https://localhost:8080/"
    },
    "executionInfo": {
     "elapsed": 6,
     "status": "ok",
     "timestamp": 1669320629322,
     "user": {
      "displayName": "Mert Karabacak",
      "userId": "14308977132914475412"
     },
     "user_tz": 300
    },
    "id": "dtGhyfSf4DjH",
    "outputId": "3795212d-bcc2-4911-9431-073e0236a9aa"
   },
   "outputs": [],
   "source": [
    "#Check missing values for numerical columns.\n",
    "\n",
    "data[num_cols].isnull().mean().round(4).mul(100).sort_values(ascending=False)"
   ]
  },
  {
   "cell_type": "code",
   "execution_count": null,
   "id": "JKPNfFvQJxRs",
   "metadata": {
    "colab": {
     "base_uri": "https://localhost:8080/"
    },
    "executionInfo": {
     "elapsed": 151,
     "status": "ok",
     "timestamp": 1669320629470,
     "user": {
      "displayName": "Mert Karabacak",
      "userId": "14308977132914475412"
     },
     "user_tz": 300
    },
    "id": "JKPNfFvQJxRs",
    "outputId": "7af7b5f8-e9ae-487b-e196-968fad959b08"
   },
   "outputs": [],
   "source": [
    "#Define missing values for numerical columns.\n",
    "\n",
    "missing_num = data[num_cols].isnull().mean().round(4).mul(100).sort_values(ascending=False)\n",
    "\n",
    "missing_num = pd.DataFrame(missing_num)\n",
    "\n",
    "missing_num.columns = ['Value']\n",
    "\n",
    "missing_num = missing_num[missing_num['Value'] > 0]\n",
    "\n",
    "print(missing_num.index)\n",
    "\n",
    "missing_num = missing_num[missing_num['Value'] > 51]\n",
    "\n",
    "missing_num = list(missing_num.index)\n",
    "\n",
    "print(missing_num)"
   ]
  },
  {
   "cell_type": "code",
   "execution_count": null,
   "id": "ZeuVKwik4DjH",
   "metadata": {
    "id": "ZeuVKwik4DjH"
   },
   "outputs": [],
   "source": [
    "#Drop numerical columns with missing values over 25%.\n",
    "\n",
    "data.drop(missing_num, axis=1, inplace=True)"
   ]
  },
  {
   "cell_type": "code",
   "execution_count": null,
   "id": "z629cXfYIqc_",
   "metadata": {
    "colab": {
     "base_uri": "https://localhost:8080/"
    },
    "executionInfo": {
     "elapsed": 3,
     "status": "ok",
     "timestamp": 1669320629470,
     "user": {
      "displayName": "Mert Karabacak",
      "userId": "14308977132914475412"
     },
     "user_tz": 300
    },
    "id": "z629cXfYIqc_",
    "outputId": "d2366c3d-2165-42b6-c3ff-4530cfc8501d"
   },
   "outputs": [],
   "source": [
    "#Define new numerical columns.\n",
    "\n",
    "num_cols = [x for x in num_cols if x not in missing_num]\n",
    "print(num_cols)"
   ]
  },
  {
   "cell_type": "code",
   "execution_count": null,
   "id": "Cs61Y4eyKdA-",
   "metadata": {
    "id": "Cs61Y4eyKdA-"
   },
   "outputs": [],
   "source": [
    "#Impute missing numerical values.\n",
    "\n",
    "num_imputer = KNNImputer(n_neighbors=5, weights='uniform', metric='nan_euclidean')\n",
    "data[num_cols] = num_imputer.fit_transform(data[num_cols])"
   ]
  },
  {
   "cell_type": "code",
   "execution_count": null,
   "id": "lE-877qW4DjI",
   "metadata": {
    "colab": {
     "base_uri": "https://localhost:8080/"
    },
    "executionInfo": {
     "elapsed": 2,
     "status": "ok",
     "timestamp": 1669320629626,
     "user": {
      "displayName": "Mert Karabacak",
      "userId": "14308977132914475412"
     },
     "user_tz": 300
    },
    "id": "lE-877qW4DjI",
    "outputId": "fe192973-86ec-4ee7-9923-29f66620d1f0"
   },
   "outputs": [],
   "source": [
    "#Check missing values after imputation.\n",
    "\n",
    "data[num_cols].isnull().mean().round(4).mul(100).sort_values(ascending=False)"
   ]
  },
  {
   "cell_type": "code",
   "execution_count": null,
   "id": "ii_RYCrFKkkY",
   "metadata": {
    "colab": {
     "base_uri": "https://localhost:8080/"
    },
    "executionInfo": {
     "elapsed": 135,
     "status": "ok",
     "timestamp": 1669320629759,
     "user": {
      "displayName": "Mert Karabacak",
      "userId": "14308977132914475412"
     },
     "user_tz": 300
    },
    "id": "ii_RYCrFKkkY",
    "outputId": "89e62d31-b0ab-4647-aafb-8c9e43bd8513"
   },
   "outputs": [],
   "source": [
    "#Check missing values for categorical columns.\n",
    "\n",
    "data[cat_cols].isnull().mean().round(4).mul(100).sort_values(ascending=False)"
   ]
  },
  {
   "cell_type": "code",
   "execution_count": null,
   "id": "IYBCs1FgKDe3",
   "metadata": {
    "colab": {
     "base_uri": "https://localhost:8080/"
    },
    "executionInfo": {
     "elapsed": 4,
     "status": "ok",
     "timestamp": 1669320629759,
     "user": {
      "displayName": "Mert Karabacak",
      "userId": "14308977132914475412"
     },
     "user_tz": 300
    },
    "id": "IYBCs1FgKDe3",
    "outputId": "934d03e4-d0cd-436a-b343-dc8ab3cf2a87"
   },
   "outputs": [],
   "source": [
    "#Define missing values for categorical columns.\n",
    "\n",
    "missing_cat = data[cat_cols].isnull().mean().round(4).mul(100).sort_values(ascending=False)\n",
    "\n",
    "missing_cat = pd.DataFrame(missing_cat)\n",
    "\n",
    "missing_cat.columns = ['Value']\n",
    "\n",
    "missing_cat = missing_cat[missing_cat['Value'] > 0]\n",
    "\n",
    "print(missing_cat.index)\n",
    "\n",
    "missing_cat = missing_cat[missing_cat['Value'] > 25]\n",
    "\n",
    "missing_cat = list(missing_cat.index)\n",
    "\n",
    "print(missing_cat)"
   ]
  },
  {
   "cell_type": "code",
   "execution_count": null,
   "id": "GCkfjhql4DjK",
   "metadata": {
    "id": "GCkfjhql4DjK"
   },
   "outputs": [],
   "source": [
    "#Drop categorical columns with missing values over 25%.\n",
    "\n",
    "data.drop(missing_cat, axis=1, inplace=True)"
   ]
  },
  {
   "cell_type": "code",
   "execution_count": null,
   "id": "-KXiKPC3KvCT",
   "metadata": {
    "colab": {
     "base_uri": "https://localhost:8080/"
    },
    "executionInfo": {
     "elapsed": 122,
     "status": "ok",
     "timestamp": 1669320629880,
     "user": {
      "displayName": "Mert Karabacak",
      "userId": "14308977132914475412"
     },
     "user_tz": 300
    },
    "id": "-KXiKPC3KvCT",
    "outputId": "cae1561e-edde-4f22-da92-21b72e6610e2"
   },
   "outputs": [],
   "source": [
    "#Define new categorical columns.\n",
    "\n",
    "cat_cols = [x for x in cat_cols if x not in missing_cat]\n",
    "print(cat_cols)"
   ]
  },
  {
   "cell_type": "code",
   "execution_count": null,
   "id": "t1ORs3LL4DjL",
   "metadata": {
    "id": "t1ORs3LL4DjL"
   },
   "outputs": [],
   "source": [
    "#Replace missing categorical values with 'Unknown'.\n",
    "\n",
    "for col in cat_cols:\n",
    "    data[col].fillna(value='Unknown', inplace=True)"
   ]
  },
  {
   "cell_type": "code",
   "execution_count": null,
   "id": "C4m7BiM0fZh0",
   "metadata": {
    "colab": {
     "base_uri": "https://localhost:8080/"
    },
    "executionInfo": {
     "elapsed": 3,
     "status": "ok",
     "timestamp": 1669320629881,
     "user": {
      "displayName": "Mert Karabacak",
      "userId": "14308977132914475412"
     },
     "user_tz": 300
    },
    "id": "C4m7BiM0fZh0",
    "outputId": "60347930-2344-46c9-8140-615f39b9b03a"
   },
   "outputs": [],
   "source": [
    "#Check missing values after imputation.\n",
    "\n",
    "data[cat_cols].isnull().mean().round(4).mul(100).sort_values(ascending=False)"
   ]
  },
  {
   "cell_type": "code",
   "execution_count": null,
   "id": "-l8IzuVw4DjI",
   "metadata": {
    "id": "-l8IzuVw4DjI"
   },
   "outputs": [],
   "source": [
    "#Save imputed data.\n",
    "\n",
    "data.to_csv('./DMVO-mRS/dmvo_imputed.csv')"
   ]
  },
  {
   "cell_type": "code",
   "execution_count": null,
   "id": "-orSsrNG4DjJ",
   "metadata": {
    "id": "-orSsrNG4DjJ"
   },
   "outputs": [],
   "source": [
    "#RobustScale data.\n",
    "\n",
    "data[num_cols] = RobustScaler().fit_transform(data[num_cols])"
   ]
  },
  {
   "cell_type": "code",
   "execution_count": null,
   "id": "4O-OzX8O4DjJ",
   "metadata": {
    "id": "4O-OzX8O4DjJ"
   },
   "outputs": [],
   "source": [
    "#Normalize data.\n",
    "\n",
    "data[num_cols] = MinMaxScaler().fit_transform(data[num_cols])"
   ]
  },
  {
   "cell_type": "code",
   "execution_count": null,
   "id": "K7MWuQkY4DjL",
   "metadata": {
    "id": "K7MWuQkY4DjL"
   },
   "outputs": [],
   "source": [
    "#One hot encoding for categorical values.\n",
    "\n",
    "data_final = pd.get_dummies(data, columns = cat_cols, drop_first = True)"
   ]
  },
  {
   "cell_type": "code",
   "execution_count": null,
   "id": "FAhBY5_N4DjL",
   "metadata": {
    "id": "FAhBY5_N4DjL"
   },
   "outputs": [],
   "source": [
    "#Save final data.\n",
    "\n",
    "data_final.to_csv('./DMVO-mRS/dmvo_final.csv')"
   ]
  }
 ],
 "metadata": {
  "colab": {
   "provenance": [
    {
     "file_id": "17GLeqIWn4ecXgbU4u0FMAX-ymvb43E2w",
     "timestamp": 1669316420257
    }
   ]
  },
  "kernelspec": {
   "display_name": "Python 3 (ipykernel)",
   "language": "python",
   "name": "python3"
  },
  "language_info": {
   "codemirror_mode": {
    "name": "ipython",
    "version": 3
   },
   "file_extension": ".py",
   "mimetype": "text/x-python",
   "name": "python",
   "nbconvert_exporter": "python",
   "pygments_lexer": "ipython3",
   "version": "3.9.6"
  }
 },
 "nbformat": 4,
 "nbformat_minor": 5
}
